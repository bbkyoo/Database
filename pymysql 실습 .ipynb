{
 "cells": [
  {
   "cell_type": "markdown",
   "metadata": {
    "collapsed": true
   },
   "source": [
    "## pymysql 모듈 이해 및 실습\n",
    "\n",
    "###  pymysql 라이브러리 소개 및 설치\n",
    "\n",
    "* mysql을 python에서 사용할 수 있는 라이브러리 \n",
    "\n",
    "* 설치\n",
    "  - pip install pymysql\n",
    "  \n",
    "* 일반적인 mysql 핸들링 코드 작성 순서\n",
    "  1. pymysql 모듈 import\n",
    "  2. pymysql.connect() 메소드를 사용하여 MySQL에 연결\n",
    "     - 호스트명, 포트, 로그인, 암호, 접속할 DB 등을 파라미터로 지정\n",
    "  3. MySQL 접속이 성공하면, Connection 객체로부터 cursor() 메서드를 호출하여 Cursor 객체를 가져옴\n",
    "  4. Cursor 객체의 execute() 메서드를 사용하여 SQL 문장을 DB 서버에 전송\n",
    "  5. SQL 쿼리의 경우 Cursor 객체의 fetchall(), fetchone(), fetchmany() 등의 메서드를 사용하여 서버로부터 가져온 데이타를 코드에서 활용\n",
    "  6. 삽입, 갱신, 삭제 등의 DML(Data Manipulation Language) 문장을 실행하는 경우, INSERT/UPDATE/DELETE 후 Connection 객체의 commit() 메서드를 사용하여 데이타를 확정\n",
    "  7. Connection 객체의 close() 메서드를 사용하여 DB 연결을 닫음"
   ]
  },
  {
   "cell_type": "markdown",
   "metadata": {},
   "source": [
    "* pymysql 모듈 import"
   ]
  },
  {
   "cell_type": "code",
   "execution_count": 2,
   "metadata": {},
   "outputs": [],
   "source": [
    "import pymysql"
   ]
  },
  {
   "cell_type": "markdown",
   "metadata": {},
   "source": [
    "* pymysql.connect() 메소드를 사용하여 MySQL에 연결\n",
    "     - 호스트명, 포트, 로그인, 암호, 접속할 DB 등을 파라미터로 지정\n",
    "     - 주요 파라미터\n",
    "       - host : 접속할 mysql server 주소\n",
    "       - port : 접속할 mysql server 의 포트 번호\n",
    "       - user : mysql ID\n",
    "       - passwd : mysql ID의 암호\n",
    "       - db : 접속할 데이터베이스\n",
    "       - charset='utf8' : mysql에서 select하여 데이타를 가져올 때 한글이 깨질 수 있으므로 연결 설정에 넣어줌"
   ]
  },
  {
   "cell_type": "code",
   "execution_count": 3,
   "metadata": {},
   "outputs": [],
   "source": [
    "db = pymysql.connect(host='localhost', port=3306, user='root', passwd='1234', db='ecommerce', charset='utf8')"
   ]
  },
  {
   "cell_type": "code",
   "execution_count": 4,
   "metadata": {},
   "outputs": [
    {
     "data": {
      "text/plain": [
       "<pymysql.connections.Connection at 0x1e867f37f10>"
      ]
     },
     "execution_count": 4,
     "metadata": {},
     "output_type": "execute_result"
    }
   ],
   "source": [
    "db"
   ]
  },
  {
   "cell_type": "markdown",
   "metadata": {},
   "source": [
    "  3. MySQL 접속이 성공하면, Connection 객체로부터 cursor() 메서드를 호출하여 Cursor 객체를 가져옴\n",
    "  4. Cursor 객체의 execute() 메서드를 사용하여 SQL 문장을 DB 서버에 전송"
   ]
  },
  {
   "cell_type": "markdown",
   "metadata": {},
   "source": [
    "* 테이블 생성\n",
    "  - Cursor Object 가져오기: cursor = db.cursor()  \n",
    "  - SQL 실행하기: cursor.execute(SQL)\n",
    "  - 실행 mysql 서버에 확정 반영하기: db.commit()"
   ]
  },
  {
   "cell_type": "code",
   "execution_count": 5,
   "metadata": {},
   "outputs": [],
   "source": [
    "ecommerce = db.cursor()"
   ]
  },
  {
   "cell_type": "code",
   "execution_count": 5,
   "metadata": {},
   "outputs": [
    {
     "data": {
      "text/plain": [
       "<pymysql.cursors.Cursor at 0x1cb9c5f65b0>"
      ]
     },
     "execution_count": 5,
     "metadata": {},
     "output_type": "execute_result"
    }
   ],
   "source": [
    "ecommerce"
   ]
  },
  {
   "cell_type": "markdown",
   "metadata": {},
   "source": [
    "* cursor 는 control structure of database "
   ]
  },
  {
   "cell_type": "code",
   "execution_count": 6,
   "metadata": {},
   "outputs": [],
   "source": [
    "sql = \"\"\"\n",
    "    CREATE TABLE product (\n",
    "        product_code VARCHAR(20) NOT NULL,\n",
    "        title VARCHAR(200) NOT NULL,\n",
    "        ori_price INT,\n",
    "        discount_price INT,\n",
    "        discount_percent INT,\n",
    "        delivery VARCHAR(2),\n",
    "        PRIMARY KEY(product_code)\n",
    "    );\n",
    "\"\"\""
   ]
  },
  {
   "cell_type": "markdown",
   "metadata": {},
   "source": [
    "* SQL 실행 (Cursor 객체의 execute() 메서드를 사용하여 INSERT, UPDATE 혹은 DELETE 문장을 DB 서버에 보냄)"
   ]
  },
  {
   "cell_type": "code",
   "execution_count": 7,
   "metadata": {},
   "outputs": [
    {
     "data": {
      "text/plain": [
       "0"
      ]
     },
     "execution_count": 7,
     "metadata": {},
     "output_type": "execute_result"
    }
   ],
   "source": [
    "ecommerce.execute(sql)"
   ]
  },
  {
   "cell_type": "markdown",
   "metadata": {},
   "source": [
    "* 삽입, 갱신, 삭제 등이 모두 끝났으면 Connection 객체의 commit() 메서드를 사용하여 데이타를 Commit"
   ]
  },
  {
   "cell_type": "code",
   "execution_count": 8,
   "metadata": {},
   "outputs": [],
   "source": [
    "db.commit()"
   ]
  },
  {
   "cell_type": "markdown",
   "metadata": {},
   "source": [
    "* Connection 객체의 close() 메서드를 사용하여 DB 연결을 닫음"
   ]
  },
  {
   "cell_type": "code",
   "execution_count": 9,
   "metadata": {},
   "outputs": [],
   "source": [
    "db.close()"
   ]
  },
  {
   "cell_type": "markdown",
   "metadata": {
    "collapsed": true
   },
   "source": [
    "### 패턴으로 익히는 pymysql"
   ]
  },
  {
   "cell_type": "code",
   "execution_count": 12,
   "metadata": {},
   "outputs": [],
   "source": [
    "# 1. 라이브러리 가져오기\n",
    "import pymysql\n",
    "\n",
    "# 2. 접속하기\n",
    "db = pymysql.connect(host='localhost', port=3306, user='root', passwd='1234', db='ecommerce', charset='utf8')\n",
    "\n",
    "# 3. 커서 가져오기\n",
    "cursor = db.cursor()\n",
    "\n",
    "# 4. SQL 구문 만들기 (CRUD SQL 구문 등)\n",
    "sql = \"\"\"\n",
    "    CREATE TABLE product (\n",
    "        product_code VARCHAR(20) NOT NULL,\n",
    "        title VARCHAR(200) NOT NULL,\n",
    "        ori_price INT,\n",
    "        discount_price INT,\n",
    "        discount_percent INT,\n",
    "        delivery VARCHAR(2),\n",
    "        PRIMARY KEY(product_code)\n",
    "    );\n",
    "\"\"\"\n",
    "\n",
    "# 5. SQL 구문 실행하기\n",
    "cursor.execute(sql)\n",
    "\n",
    "# 6. DB에 Complete 하기\n",
    "db.commit()\n",
    "\n",
    "# 7. DB 연결 닫기\n",
    "db.close()"
   ]
  },
  {
   "cell_type": "markdown",
   "metadata": {},
   "source": [
    "* 데이터 삽입(INSERT)\n",
    "  - Cursor Object 가져오기: cursor = db.cursor()  \n",
    "  - SQL 실행하기: cursor.execute(SQL)\n",
    "  - 실행 mysql 서버에 확정 반영하기: db.commit()"
   ]
  },
  {
   "cell_type": "code",
   "execution_count": 13,
   "metadata": {},
   "outputs": [
    {
     "name": "stdout",
     "output_type": "stream",
     "text": [
      "\n",
      "INSERT INTO product VALUES(\n",
      "\"1498699891\", \"(12%쿠폰)1+1 장당 2995원/쿨론/반팔티/등산복/바지\", 22600, 6800, 69, \"F\");\n",
      "\n"
     ]
    }
   ],
   "source": [
    "i= 1498699891\n",
    "sql = \"\"\"\n",
    "INSERT INTO product VALUES(\n",
    "\"{}\", \"(12%쿠폰)1+1 장당 2995원/쿨론/반팔티/등산복/바지\", 22600, 6800, 69, \"F\");\n",
    "\"\"\".format(i)\n",
    "print(sql)"
   ]
  },
  {
   "cell_type": "code",
   "execution_count": 18,
   "metadata": {},
   "outputs": [
    {
     "name": "stdout",
     "output_type": "stream",
     "text": [
      "INSERT INTO product VALUES(\n",
      "    \"1498699891\", \"(12%쿠폰)1+1 장당 2995원/쿨론/반팔티/등산복/바지\", 22600, 6800, 69, \"F\");\n",
      "INSERT INTO product VALUES(\n",
      "    \"1498699892\", \"(12%쿠폰)1+1 장당 2995원/쿨론/반팔티/등산복/바지\", 22600, 6800, 69, \"F\");\n",
      "INSERT INTO product VALUES(\n",
      "    \"1498699893\", \"(12%쿠폰)1+1 장당 2995원/쿨론/반팔티/등산복/바지\", 22600, 6800, 69, \"F\");\n",
      "INSERT INTO product VALUES(\n",
      "    \"1498699894\", \"(12%쿠폰)1+1 장당 2995원/쿨론/반팔티/등산복/바지\", 22600, 6800, 69, \"F\");\n",
      "INSERT INTO product VALUES(\n",
      "    \"1498699895\", \"(12%쿠폰)1+1 장당 2995원/쿨론/반팔티/등산복/바지\", 22600, 6800, 69, \"F\");\n",
      "INSERT INTO product VALUES(\n",
      "    \"1498699896\", \"(12%쿠폰)1+1 장당 2995원/쿨론/반팔티/등산복/바지\", 22600, 6800, 69, \"F\");\n",
      "INSERT INTO product VALUES(\n",
      "    \"1498699897\", \"(12%쿠폰)1+1 장당 2995원/쿨론/반팔티/등산복/바지\", 22600, 6800, 69, \"F\");\n",
      "INSERT INTO product VALUES(\n",
      "    \"1498699898\", \"(12%쿠폰)1+1 장당 2995원/쿨론/반팔티/등산복/바지\", 22600, 6800, 69, \"F\");\n",
      "INSERT INTO product VALUES(\n",
      "    \"1498699899\", \"(12%쿠폰)1+1 장당 2995원/쿨론/반팔티/등산복/바지\", 22600, 6800, 69, \"F\");\n",
      "INSERT INTO product VALUES(\n",
      "    \"1498699900\", \"(12%쿠폰)1+1 장당 2995원/쿨론/반팔티/등산복/바지\", 22600, 6800, 69, \"F\");\n"
     ]
    }
   ],
   "source": [
    "import pymysql\n",
    "\n",
    "db = pymysql.connect(host='127.0.0.1', port=3306, user='root', passwd='1234', db='ecommerce', charset='utf8')\n",
    "\n",
    "cursor = db.cursor()\n",
    "product_code = 1498699891\n",
    "for index in range(10):\n",
    "    sql = \"\"\"INSERT INTO product VALUES(\n",
    "    \"{}\", \"(12%쿠폰)1+1 장당 2995원/쿨론/반팔티/등산복/바지\", 22600, 6800, 69, \"F\");\"\"\".format(product_code)\n",
    "    product_code += 1\n",
    "    print (sql)\n",
    "    cursor.execute(sql)\n",
    "\n",
    "db.commit()\n",
    "db.close()"
   ]
  },
  {
   "cell_type": "markdown",
   "metadata": {},
   "source": [
    "* 데이터 조회(SELECT)\n",
    "  - Cursor Object 가져오기: cursor = db.cursor()  \n",
    "  - SQL 실행하기: cursor.execute(SQL)\n",
    "  - mysql 서버로부터 데이터 가져오기: fetch 메서드 사용\n",
    "    - fetchall(): Fetch all the rows\n",
    "    - fetchmany(size=None): Fetch several rows\n",
    "    - fetchone(): Fetch the next row"
   ]
  },
  {
   "cell_type": "code",
   "execution_count": 19,
   "metadata": {},
   "outputs": [
    {
     "name": "stdout",
     "output_type": "stream",
     "text": [
      "('1498699891', '(12%쿠폰)1+1 장당 2995원/쿨론/반팔티/등산복/바지', 22600, 6800, 69, 'F')\n"
     ]
    }
   ],
   "source": [
    "import pymysql\n",
    "\n",
    "db = pymysql.connect(host='localhost', port=3306, user='root', passwd='1234', db='ecommerce', charset='utf8')\n",
    "cursor = db.cursor()\n",
    "sql = \"SELECT * FROM product\"\n",
    "cursor.execute(sql)\n",
    "result = cursor.fetchone()\n",
    "#print(record)\n",
    "print(result)\n",
    "db.close()"
   ]
  },
  {
   "cell_type": "code",
   "execution_count": 28,
   "metadata": {},
   "outputs": [
    {
     "name": "stdout",
     "output_type": "stream",
     "text": [
      "('1498699892', '(12%쿠폰)1+1 장당 2995원/쿨론/반팔티/등산복/바지', 22600, 6800, 69, 'F')\n",
      "('1498699893', '(12%쿠폰)1+1 장당 2995원/쿨론/반팔티/등산복/바지', 22600, 6800, 69, 'F')\n",
      "('1498699894', '(12%쿠폰)1+1 장당 2995원/쿨론/반팔티/등산복/바지', 22600, 6800, 69, 'F')\n",
      "('1498699895', '(12%쿠폰)1+1 장당 2995원/쿨론/반팔티/등산복/바지', 22600, 6800, 69, 'F')\n",
      "('1498699896', '(12%쿠폰)1+1 장당 2995원/쿨론/반팔티/등산복/바지', 22600, 6800, 69, 'F')\n",
      "('1498699897', '(12%쿠폰)1+1 장당 2995원/쿨론/반팔티/등산복/바지', 22600, 6800, 69, 'F')\n",
      "('1498699898', '(12%쿠폰)1+1 장당 2995원/쿨론/반팔티/등산복/바지', 22600, 6800, 69, 'F')\n",
      "('1498699899', '(12%쿠폰)1+1 장당 2995원/쿨론/반팔티/등산복/바지', 22600, 6800, 69, 'F')\n",
      "('1498699900', '(12%쿠폰)1+1 장당 2995원/쿨론/반팔티/등산복/바지', 22600, 6800, 69, 'F')\n"
     ]
    }
   ],
   "source": [
    "import pymysql\n",
    "\n",
    "db = pymysql.connect(host='localhost', port=3306, user='root', passwd='1234', db='ecommerce', charset='utf8')\n",
    "cursor = db.cursor()\n",
    "sql = \"SELECT * FROM product\"\n",
    "cursor.execute(sql)\n",
    "result = cursor.fetchall()\n",
    "#result = cursor.fetchmany(size=3)\n",
    "for record in result:\n",
    "    print(record)\n",
    "\n",
    "db.close()"
   ]
  },
  {
   "cell_type": "code",
   "execution_count": 22,
   "metadata": {},
   "outputs": [
    {
     "name": "stdout",
     "output_type": "stream",
     "text": [
      "('1498699891', '(12%쿠폰)1+1 장당 2995원/쿨론/반팔티/등산복/바지', 22600, 6800, 69, 'F')\n",
      "('1498699892', '(12%쿠폰)1+1 장당 2995원/쿨론/반팔티/등산복/바지', 22600, 6800, 69, 'F')\n",
      "('1498699893', '(12%쿠폰)1+1 장당 2995원/쿨론/반팔티/등산복/바지', 22600, 6800, 69, 'F')\n"
     ]
    }
   ],
   "source": [
    "import pymysql\n",
    "\n",
    "db = pymysql.connect(host='localhost', port=3306, user='root', passwd='1234', db='ecommerce', charset='utf8')\n",
    "cursor = db.cursor()\n",
    "sql = \"SELECT * FROM product\"\n",
    "cursor.execute(sql)\n",
    "result = cursor.fetchmany(size=3)\n",
    "for record in result:\n",
    "    print(record)\n",
    "\n",
    "db.close()"
   ]
  },
  {
   "cell_type": "markdown",
   "metadata": {},
   "source": [
    "* 데이터 수정(UPDATE)\n",
    "  - Cursor Object 가져오기: cursor = db.cursor()  \n",
    "  - SQL 실행하기: cursor.execute(SQL)\n",
    "  - 실행 mysql 서버에 확정 반영하기: db.commit()"
   ]
  },
  {
   "cell_type": "markdown",
   "metadata": {},
   "source": [
    "체이스컬트 여름 팬츠/상의 마무리 SALE\n",
    "33,000원\n",
    "9,900원\n",
    "70"
   ]
  },
  {
   "cell_type": "markdown",
   "metadata": {},
   "source": [
    "UPDATE product SET \n",
    "    title = '체이스컬트 여름 팬츠/상의 마무리 SALE', \n",
    "    ori_price = 33000, \n",
    "    discount_price = 9900, \n",
    "    discount_price =70 \n",
    "    WHERE PRODUCT_CODE='1498699891'"
   ]
  },
  {
   "cell_type": "code",
   "execution_count": 24,
   "metadata": {},
   "outputs": [],
   "source": [
    "# 1. 라이브러리 가져오기\n",
    "import pymysql\n",
    "\n",
    "# 2. 접속하기\n",
    "db = pymysql.connect(host='localhost', port=3306, user='root', passwd='1234', db='ecommerce', charset='utf8')\n",
    "\n",
    "# 3. 커서 가져오기\n",
    "cursor = db.cursor()\n",
    "\n",
    "# 4. SQL 구문 만들기\n",
    "SQL = \"\"\"\n",
    "UPDATE product SET \n",
    "    title = '체이스컬트 여름 팬츠/상의 마무리 SALE', \n",
    "    ori_price = 33000, \n",
    "    discount_price = 9900, \n",
    "    discount_price =70 \n",
    "    WHERE PRODUCT_CODE='1498699891'\n",
    "\"\"\"\n",
    "\n",
    "# 5. SQL 구문 실행하기\n",
    "cursor.execute(SQL)\n",
    "\n",
    "# 6. commit 하기\n",
    "db.commit()\n",
    "\n",
    "# 7. close 하기\n",
    "db.close()"
   ]
  },
  {
   "cell_type": "markdown",
   "metadata": {},
   "source": [
    "* 데이터 삭제(DELETE)\n",
    "  - Cursor Object 가져오기: cursor = db.cursor()  \n",
    "  - SQL 실행하기: cursor.execute(SQL)\n",
    "  - 실행 mysql 서버에 확정 반영하기: db.commit()"
   ]
  },
  {
   "cell_type": "code",
   "execution_count": null,
   "metadata": {},
   "outputs": [],
   "source": [
    "DELETE FROM product WHERE PRODUCT_CODE='1498699891'"
   ]
  },
  {
   "cell_type": "code",
   "execution_count": 27,
   "metadata": {},
   "outputs": [],
   "source": [
    "import pymysql\n",
    "\n",
    "db = pymysql.connect(host='localhost', port=3306, user='root', passwd='1234', db='ecommerce', charset='utf8')\n",
    "\n",
    "cursor = db.cursor()\n",
    "\n",
    "SQL = \"\"\"DELETE FROM product WHERE PRODUCT_CODE='1498699891'\"\"\"\n",
    "\n",
    "cursor.execute(SQL)\n",
    "\n",
    "db.commit()\n",
    "\n",
    "db.close()"
   ]
  },
  {
   "cell_type": "markdown",
   "metadata": {},
   "source": [
    "<div class=\"alert alert-block alert-warning\">\n",
    "<font color=\"blue\" size=\"4em\">연습문제</font><br>\n",
    "* 위 pymysql 샘플코드를 참고해서 다음과 깉이 작업하기<br>\n",
    "<br>\n",
    "웹페이지(http://www.enuri.com/search.jsp?keyword=%EC%9D%B8%ED%85%94%20CPU) 에서 1위 ~ 10위까지 데이터 입력하기<br>\n",
    "<br>\n",
    "- id는 자동 증가<br>\n",
    "- name 은 코어 이름 <br>\n",
    "- model_num 은 코어 모델 번호 <br>\n",
    "- model_type 은 코드명 (카비레이크, 스카이레이크 로 작성)<br>\n",
    "<br>\n",
    "- 예: 인텔 코어 i7-10700K 코멧레이크S<br>\n",
    "-> name 은 i7<br>\n",
    "-> model_num 은 0700K<br>\n",
    "-> model_type 은 코멧레이크S\n",
    "</div>"
   ]
  },
  {
   "cell_type": "code",
   "execution_count": null,
   "metadata": {},
   "outputs": [],
   "source": []
  }
 ],
 "metadata": {
  "kernelspec": {
   "display_name": "Python 3",
   "language": "python",
   "name": "python3"
  },
  "language_info": {
   "codemirror_mode": {
    "name": "ipython",
    "version": 3
   },
   "file_extension": ".py",
   "mimetype": "text/x-python",
   "name": "python",
   "nbconvert_exporter": "python",
   "pygments_lexer": "ipython3",
   "version": "3.8.8"
  },
  "nbTranslate": {
   "displayLangs": [
    "*"
   ],
   "hotkey": "alt-t",
   "langInMainMenu": true,
   "sourceLang": "en",
   "targetLang": "fr",
   "useGoogleTranslate": true
  },
  "varInspector": {
   "cols": {
    "lenName": 16,
    "lenType": 16,
    "lenVar": 40
   },
   "kernels_config": {
    "python": {
     "delete_cmd_postfix": "",
     "delete_cmd_prefix": "del ",
     "library": "var_list.py",
     "varRefreshCmd": "print(var_dic_list())"
    },
    "r": {
     "delete_cmd_postfix": ") ",
     "delete_cmd_prefix": "rm(",
     "library": "var_list.r",
     "varRefreshCmd": "cat(var_dic_list()) "
    }
   },
   "types_to_exclude": [
    "module",
    "function",
    "builtin_function_or_method",
    "instance",
    "_Feature"
   ],
   "window_display": false
  }
 },
 "nbformat": 4,
 "nbformat_minor": 2
}
